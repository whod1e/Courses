{
 "cells": [
  {
   "cell_type": "markdown",
   "metadata": {},
   "source": [
    "### Непараметрические критерии"
   ]
  },
  {
   "cell_type": "markdown",
   "metadata": {},
   "source": [
    "#### Одновыборочный Критерий знаков"
   ]
  },
  {
   "cell_type": "markdown",
   "metadata": {},
   "source": [
    "Критерий знаков - это непараметрический аналог одновыборочного t-критерия, и он используется для проверки, равняется ли медиана выборки заданному значению. "
   ]
  },
  {
   "cell_type": "markdown",
   "metadata": {},
   "source": [
    "**Задача**"
   ]
  },
  {
   "cell_type": "markdown",
   "metadata": {},
   "source": [
    "Даны наблюдения времени выполнения контрольной работы по математике в школе. Проверить гипотезу о том, что время выполнения контрольной работы - 35 минут."
   ]
  },
  {
   "cell_type": "code",
   "execution_count": 1,
   "metadata": {},
   "outputs": [],
   "source": [
    "sample = [29, 41, 39, 62, 46, 31, 29, 28, 30, 31, 45, 41]"
   ]
  },
  {
   "cell_type": "markdown",
   "metadata": {},
   "source": [
    "**Решение задачи**"
   ]
  },
  {
   "cell_type": "markdown",
   "metadata": {},
   "source": [
    "1. Установим уровень значимости α = 5%.\n",
    "2. Будем использовать одновыборочный критерий знаков."
   ]
  },
  {
   "cell_type": "markdown",
   "metadata": {},
   "source": [
    "Нулевое распределение будет выглядеть следюущим образом (просто полный перебор вариантов при n = len(samples)):"
   ]
  },
  {
   "cell_type": "code",
   "execution_count": 2,
   "metadata": {},
   "outputs": [],
   "source": [
    "import pandas as pd\n",
    "import matplotlib.pyplot as plt\n",
    "%matplotlib inline\n",
    "import seaborn as sns\n",
    "import numpy as np\n",
    "import itertools\n",
    "import scipy\n",
    "import tqdm\n",
    "from scipy import stats\n",
    "import random\n",
    "\n",
    "from IPython.display import *"
   ]
  },
  {
   "cell_type": "code",
   "execution_count": 3,
   "metadata": {},
   "outputs": [
    {
     "data": {
      "image/png": "[encoded data removed]",
      "text/plain": [
       "<Figure size 1400x700 with 1 Axes>"
      ]
     },
     "metadata": {},
     "output_type": "display_data"
    }
   ],
   "source": [
    "\n",
    "plt.figure(figsize = (14,7))\n",
    "\n",
    "pb = stats.binom(n = len(sample), p = 0.5)\n",
    "x = np.arange(0,13)\n",
    "pmf = pb.pmf(x)\n",
    "\n",
    "plt.vlines(x ,0, pb.pmf(x), colors='k', linestyles='-', lw=50)\n",
    "plt.show()"
   ]
  },
  {
   "cell_type": "code",
   "execution_count": 4,
   "metadata": {},
   "outputs": [
    {
     "data": {
      "text/plain": [
       "True"
      ]
     },
     "execution_count": 4,
     "metadata": {},
     "output_type": "execute_result"
    }
   ],
   "source": [
    "pb.cdf(sum(np.array(sample) > 35)) > 0.05"
   ]
  },
  {
   "cell_type": "markdown",
   "metadata": {},
   "source": [
    "Вывод: гипотеза о равенстве продолжительности урока 35 минутам не отвергается."
   ]
  },
  {
   "cell_type": "code",
   "execution_count": 5,
   "metadata": {},
   "outputs": [
    {
     "data": {
      "text/plain": [
       "1.0"
      ]
     },
     "execution_count": 5,
     "metadata": {},
     "output_type": "execute_result"
    }
   ],
   "source": [
    "from statsmodels.stats.descriptivestats import sign_test\n",
    "_, pvalue = sign_test(sample, mu0=35)\n",
    "pvalue"
   ]
  },
  {
   "cell_type": "markdown",
   "metadata": {},
   "source": [
    "#### Двувыборочный критерий знаков для связанных выборок"
   ]
  },
  {
   "cell_type": "markdown",
   "metadata": {},
   "source": [
    "**Задача**"
   ]
  },
  {
   "cell_type": "markdown",
   "metadata": {},
   "source": [
    "Курьеры передвигались на самокатах, затем им выдали велосипеды и записали среднее время, с которым они доставляли заказы до и после выдачи велосипедов. Проверить гипотезу о том, что на велосипедах курьеры передвигаются быстрее."
   ]
  },
  {
   "cell_type": "code",
   "execution_count": 6,
   "metadata": {},
   "outputs": [
    {
     "data": {
      "text/html": [
       "<div>\n",
       "<style scoped>\n",
       "    .dataframe tbody tr th:only-of-type {\n",
       "        vertical-align: middle;\n",
       "    }\n",
       "\n",
       "    .dataframe tbody tr th {\n",
       "        vertical-align: top;\n",
       "    }\n",
       "\n",
       "    .dataframe thead th {\n",
       "        text-align: right;\n",
       "    }\n",
       "</style>\n",
       "<table border=\"1\" class=\"dataframe\">\n",
       "  <thead>\n",
       "    <tr style=\"text-align: right;\">\n",
       "      <th></th>\n",
       "      <th>time_before</th>\n",
       "      <th>time_after</th>\n",
       "    </tr>\n",
       "  </thead>\n",
       "  <tbody>\n",
       "    <tr>\n",
       "      <th>0</th>\n",
       "      <td>29.414597</td>\n",
       "      <td>26.611618</td>\n",
       "    </tr>\n",
       "    <tr>\n",
       "      <th>1</th>\n",
       "      <td>26.498089</td>\n",
       "      <td>37.360027</td>\n",
       "    </tr>\n",
       "    <tr>\n",
       "      <th>2</th>\n",
       "      <td>37.585168</td>\n",
       "      <td>37.679956</td>\n",
       "    </tr>\n",
       "    <tr>\n",
       "      <th>3</th>\n",
       "      <td>42.811159</td>\n",
       "      <td>40.085997</td>\n",
       "    </tr>\n",
       "    <tr>\n",
       "      <th>4</th>\n",
       "      <td>36.621921</td>\n",
       "      <td>31.292931</td>\n",
       "    </tr>\n",
       "  </tbody>\n",
       "</table>\n",
       "</div>"
      ],
      "text/plain": [
       "   time_before  time_after\n",
       "0    29.414597   26.611618\n",
       "1    26.498089   37.360027\n",
       "2    37.585168   37.679956\n",
       "3    42.811159   40.085997\n",
       "4    36.621921   31.292931"
      ]
     },
     "execution_count": 6,
     "metadata": {},
     "output_type": "execute_result"
    }
   ],
   "source": [
    "norm_rv1 = stats.norm(loc=35, scale = 5)\n",
    "\n",
    "df = pd.DataFrame()\n",
    "df['time_before'] = norm_rv1.rvs(size=20)\n",
    "df['time_after'] = norm_rv1.rvs(size=20)\n",
    "df.head()"
   ]
  },
  {
   "cell_type": "markdown",
   "metadata": {},
   "source": [
    "**Решение задачи**"
   ]
  },
  {
   "cell_type": "markdown",
   "metadata": {},
   "source": [
    "1. Установим уровень значимости критерия α = 5%.\n",
    "2. Будем использовать двувыборочный критерий знаков для связанных выборок и проверять одностороннюю гипотезу."
   ]
  },
  {
   "cell_type": "code",
   "execution_count": 7,
   "metadata": {},
   "outputs": [
    {
     "data": {
      "text/html": [
       "<div>\n",
       "<style scoped>\n",
       "    .dataframe tbody tr th:only-of-type {\n",
       "        vertical-align: middle;\n",
       "    }\n",
       "\n",
       "    .dataframe tbody tr th {\n",
       "        vertical-align: top;\n",
       "    }\n",
       "\n",
       "    .dataframe thead th {\n",
       "        text-align: right;\n",
       "    }\n",
       "</style>\n",
       "<table border=\"1\" class=\"dataframe\">\n",
       "  <thead>\n",
       "    <tr style=\"text-align: right;\">\n",
       "      <th></th>\n",
       "      <th>time_before</th>\n",
       "      <th>time_after</th>\n",
       "      <th>stat_M</th>\n",
       "    </tr>\n",
       "  </thead>\n",
       "  <tbody>\n",
       "    <tr>\n",
       "      <th>0</th>\n",
       "      <td>29.414597</td>\n",
       "      <td>26.611618</td>\n",
       "      <td>1</td>\n",
       "    </tr>\n",
       "    <tr>\n",
       "      <th>1</th>\n",
       "      <td>26.498089</td>\n",
       "      <td>37.360027</td>\n",
       "      <td>0</td>\n",
       "    </tr>\n",
       "  </tbody>\n",
       "</table>\n",
       "</div>"
      ],
      "text/plain": [
       "   time_before  time_after  stat_M\n",
       "0    29.414597   26.611618       1\n",
       "1    26.498089   37.360027       0"
      ]
     },
     "execution_count": 7,
     "metadata": {},
     "output_type": "execute_result"
    }
   ],
   "source": [
    "df['stat_M'] = np.where(df.time_before > df.time_after,1,0)\n",
    "df.head(2)"
   ]
  },
  {
   "cell_type": "code",
   "execution_count": 8,
   "metadata": {},
   "outputs": [
    {
     "data": {
      "text/plain": [
       "0.7482776641845703"
      ]
     },
     "execution_count": 8,
     "metadata": {},
     "output_type": "execute_result"
    }
   ],
   "source": [
    "pb = stats.binom(n = df.shape[0], p = 0.5)\n",
    "pb.cdf(df['stat_M'].sum())"
   ]
  },
  {
   "cell_type": "markdown",
   "metadata": {},
   "source": [
    "Вывод: нулевая гипотеза не отвергается."
   ]
  },
  {
   "cell_type": "code",
   "execution_count": 9,
   "metadata": {},
   "outputs": [
    {
     "data": {
      "text/plain": [
       "0.8238029479980469"
      ]
     },
     "execution_count": 9,
     "metadata": {},
     "output_type": "execute_result"
    }
   ],
   "source": [
    "from statsmodels.stats.descriptivestats import sign_test\n",
    "_, pvalue = sign_test(df['time_before'] - df['time_after'])\n",
    "pvalue"
   ]
  },
  {
   "cell_type": "markdown",
   "metadata": {},
   "source": [
    "#### Ранговые критерии"
   ]
  },
  {
   "cell_type": "markdown",
   "metadata": {},
   "source": [
    "**Одновыборочный ранговый критерий Уилкоксона**"
   ]
  },
  {
   "cell_type": "markdown",
   "metadata": {},
   "source": [
    "Наблюдаем: $X_1, X_2, …, X_n;$\n",
    "\n",
    "Предполагаем: $X_i$  независимы;\n",
    "\n",
    "Проверяемая гипотеза: $H_{0} : Med(X) = m_0 , H_{1} : Med(X) <> m_0 $ \n",
    "\n",
    "**Статистика:** $ \\\\ W = \\sum_{i=1}^N rank(|X_i −m_0|)·sign(X_i −m_0)  $ ~ распределение табличное либо нормальное при большом числе наблюдений\n"
   ]
  },
  {
   "cell_type": "markdown",
   "metadata": {},
   "source": [
    "**Задача**"
   ]
  },
  {
   "cell_type": "markdown",
   "metadata": {},
   "source": [
    "Даны наблюдения времени выполнения контрольной работы по математике в школе. Проверить гипотезу о том, что время выполнения контрольной работы - 35 минут."
   ]
  },
  {
   "cell_type": "markdown",
   "metadata": {},
   "source": [
    "**Решение задачи**"
   ]
  },
  {
   "cell_type": "markdown",
   "metadata": {},
   "source": [
    "1. Установим уровень значимости критерия α = 5%.\n",
    "2. Будем использовать одновыборочный критерий знаковых рангов Уилкоксона."
   ]
  },
  {
   "cell_type": "code",
   "execution_count": 10,
   "metadata": {},
   "outputs": [
    {
     "data": {
      "text/plain": [
       "WilcoxonResult(statistic=30.0, pvalue=0.5185546875)"
      ]
     },
     "execution_count": 10,
     "metadata": {},
     "output_type": "execute_result"
    }
   ],
   "source": [
    "stats.wilcoxon(np.array(sample) - 35)"
   ]
  },
  {
   "cell_type": "markdown",
   "metadata": {},
   "source": [
    "Вывод: гипотеза о равенстве продолжительности урока 35 минутам не отвергается."
   ]
  },
  {
   "cell_type": "markdown",
   "metadata": {},
   "source": [
    "**Двувыборочный ранговый критерий Уилкоксона для связанных выборок**"
   ]
  },
  {
   "cell_type": "markdown",
   "metadata": {},
   "source": [
    "Наблюдаем: $X_1, X_2, …, X_{n_{x}}, Y_1, Y_2, …, Y_{n_{y}};$\n",
    "\n",
    "Предполагаем: $X_i$ и $Y_i$ зависимы;\n",
    "\n",
    "Проверяемая гипотеза: $H_{0} : Med(X-Y) = 0 , H_{1} :  Med(X-Y) <> 0 $ \n",
    "\n",
    "**Статистика:** $  W = \\sum_{i=1}^N rank(|X_{i} − Y_{i}|)·sign(X_{i} − Y_{i}) $ "
   ]
  },
  {
   "cell_type": "markdown",
   "metadata": {},
   "source": [
    "Аналогично одновыборочному критерию."
   ]
  },
  {
   "cell_type": "markdown",
   "metadata": {},
   "source": [
    "По данным задачи об изменении транспортного средства курьеров:"
   ]
  },
  {
   "cell_type": "code",
   "execution_count": 11,
   "metadata": {},
   "outputs": [
    {
     "data": {
      "text/plain": [
       "WilcoxonResult(statistic=89.0, pvalue=0.5705966949462891)"
      ]
     },
     "execution_count": 11,
     "metadata": {},
     "output_type": "execute_result"
    }
   ],
   "source": [
    "stats.wilcoxon(df['time_before'] , df['time_after'])"
   ]
  },
  {
   "cell_type": "markdown",
   "metadata": {},
   "source": [
    "**Двувыборочный критерий Манна-Уитни для несвязанных выборок**"
   ]
  },
  {
   "cell_type": "markdown",
   "metadata": {},
   "source": [
    "Наблюдаем: $X_1, X_2, …, X_{n_{x}}, Y_1, Y_2, …, Y_{n_{y}};$\n",
    "\n",
    "Предполагаем: $X_i$ и $Y_i$ независимы;\n",
    "\n",
    "Проверяемая гипотеза:\n",
    "$\\\\ H_0: f_{X} (x) =  f_{Y} (y), $\n",
    " $H_1: f_{X} (x) =  f_{Y} (y + ∆),∆ <> 0 $\n",
    "\n",
    "**Статистика:** $ \\\\ U = n_1n_2 + \\frac{n_x(n_x+1)}{2} - T_x $ где определяем большую из двух ранговых сумм как $T_x$ соответствующую выборке с $n_x$ элементами."
   ]
  },
  {
   "cell_type": "markdown",
   "metadata": {},
   "source": [
    "Как считается коэффициент:\n",
    "- в составленном едином ранжированном ряду общее количество рангов получится равным: n1 + n2.\n",
    "- подсчитываем отдельно сумму рангов, пришедшихся на долю элементов первой выборки, и отдельно - на долю элементов второй выборки.\n",
    "- далее рассчитываем сам коэффициент U."
   ]
  },
  {
   "cell_type": "code",
   "execution_count": 12,
   "metadata": {},
   "outputs": [],
   "source": [
    "a = [29, 41, 39, 62, 46, 31, 29, 28, 30, 31, 45, 41]\n",
    "b = [20, 37, 31, 69, 1, 0, -1, 28, 30, 31, 40, 15]"
   ]
  },
  {
   "cell_type": "code",
   "execution_count": 13,
   "metadata": {},
   "outputs": [],
   "source": [
    "sample_vel = [32.8, 44.3, 29. , 23.5, 26.7, 39. , 36.2, 25.6, 37.9, 36.5, 43.8,\n",
    "       59.7, 37.7, 38.4, 32.1, 28.2, 34.4, 22.1, 12.6, 26.9, 29.9, 55.5,\n",
    "       34.1, 22.4, 25.4, 40. , 22.5, 38.8, 43.6, 34.4]\n",
    "sample_sam = [34.2, 35.4, 53.2, 37.8, 34.6, 31.4, 35.8, 40.4, 32.4, 29.8, 30.9,\n",
    "       52.5, 44. , 32.3, 39.3, 31.7, 48.3, 34.7, 41.1, 52.3, 38.8, 55.8,\n",
    "       35.4, 32.3, 31.4, 37.6, 33.3, 42.9, 48.9, 39.2]"
   ]
  },
  {
   "cell_type": "code",
   "execution_count": 14,
   "metadata": {},
   "outputs": [
    {
     "data": {
      "text/plain": [
       "MannwhitneyuResult(statistic=307.5, pvalue=0.03576983135135158)"
      ]
     },
     "execution_count": 14,
     "metadata": {},
     "output_type": "execute_result"
    }
   ],
   "source": [
    "stats.mannwhitneyu(sample_vel, sample_sam)"
   ]
  },
  {
   "cell_type": "markdown",
   "metadata": {},
   "source": [
    "### Множественные сравнения"
   ]
  },
  {
   "cell_type": "markdown",
   "metadata": {},
   "source": [
    "**Задача**"
   ]
  },
  {
   "cell_type": "markdown",
   "metadata": {},
   "source": [
    "Проверить гипотезу о том, что на личном транспорте добираться до университета быстрее, чем на общественном."
   ]
  },
  {
   "cell_type": "code",
   "execution_count": 15,
   "metadata": {},
   "outputs": [],
   "source": [
    "samokat = [34.2, 35.4, 53.2, 37.8, 31.6, 31.4, 35.8, 40.4, 32.4, 29.8, 30.9,\n",
    "       52.5, 44. , 32.3, 39.3, 31.7, 48.3, 34.7, 41.1, 52.3, 38.8, 55.8,\n",
    "       35.4, 32.3, 31.4, 31.6, 33.3, 32.9, 48.9, 39.2]\n",
    "\n",
    "bike = [32.8, 44.3, 29. , 23.5, 26.7, 39. , 36.2, 25.6, 37.9, 36.5, 43.8,\n",
    "       59.7, 37.7, 38.4, 32.1, 28.2, 34.4, 22.1, 12.6, 26.9, 29.9, 55.5,\n",
    "       34.1, 22.4, 25.4, 40. , 22.5, 18.8, 13.6, 34.4]\n",
    "\n",
    "motorbike = [27.8, 38.1, 31.3, 36.6, 33.6, 43.3, 31.1, 31.1, 38.7, 44.9, 43.4,\n",
    "       39.4, 47.9, 32.3, 28.4, 39.9, 38.5, 30.6, 29. , 36.6]\n",
    "\n",
    "public_transport = [36.5, 42.1, 38. , 34.6, 38.5, 36.7, 29.6, 39.4, 32.4, 41.3, 30.1,\n",
    "       29.5, 33.8, 40.6, 31.3, 31.1, 38.3, 38.6, 28.3, 33.8]"
   ]
  },
  {
   "cell_type": "markdown",
   "metadata": {},
   "source": [
    "**Решение задачи**"
   ]
  },
  {
   "cell_type": "markdown",
   "metadata": {},
   "source": [
    "1. Установим уровень значимости критерия α = 5%.\n",
    "2. Нулевая гипотеза - время передвижения на публичном транспорте равно времени передвижения на личном, алтернативная - скорости не равны.\n",
    "3. Будем использовать двувыборочный критерий Манна-Уитни, попарно сравнивая выборки."
   ]
  },
  {
   "cell_type": "code",
   "execution_count": 16,
   "metadata": {},
   "outputs": [],
   "source": [
    "pvals = []\n",
    "for s in [samokat, bike, motorbike]:\n",
    "    U, p = stats.mannwhitneyu(public_transport, s, alternative='greater')\n",
    "    pvals.append(p)"
   ]
  },
  {
   "cell_type": "code",
   "execution_count": 17,
   "metadata": {},
   "outputs": [
    {
     "data": {
      "text/plain": [
       "[0.8575808095163361, 0.048099425470081544, 0.6375057571656346]"
      ]
     },
     "execution_count": 17,
     "metadata": {},
     "output_type": "execute_result"
    }
   ],
   "source": [
    "pvals"
   ]
  },
  {
   "cell_type": "markdown",
   "metadata": {},
   "source": [
    "Простое попарное сравнение показало, что можем отвергнуть гипотезу об одинаковой скорости передвижения на велосипеде и публичном транспорте, исопльзуем поправку Бонферрони."
   ]
  },
  {
   "cell_type": "code",
   "execution_count": 18,
   "metadata": {},
   "outputs": [],
   "source": [
    "from statsmodels.sandbox.stats.multicomp import multipletests\n",
    "hyp_rej, corrected_pvals , _ , _ = multipletests(pvals, alpha=0.05, method='bonferroni')"
   ]
  },
  {
   "cell_type": "code",
   "execution_count": 19,
   "metadata": {},
   "outputs": [
    {
     "data": {
      "text/plain": [
       "array([False, False, False])"
      ]
     },
     "execution_count": 19,
     "metadata": {},
     "output_type": "execute_result"
    }
   ],
   "source": [
    "hyp_rej"
   ]
  },
  {
   "cell_type": "markdown",
   "metadata": {},
   "source": [
    "Вывод: с учетом поправки Бонферрони не можем отклонить ни одну гипотезу о том, что время передвижения на личном транспорте меньше времени передвижения на публичном в пользу альтернативной."
   ]
  }
 ],
 "metadata": {
  "kernelspec": {
   "display_name": "main",
   "language": "python",
   "name": "main"
  },
  "language_info": {
   "codemirror_mode": {
    "name": "ipython",
    "version": 3
   },
   "file_extension": ".py",
   "mimetype": "text/x-python",
   "name": "python",
   "nbconvert_exporter": "python",
   "pygments_lexer": "ipython3",
   "version": "3.8.15"
  }
 },
 "nbformat": 4,
 "nbformat_minor": 2
}
